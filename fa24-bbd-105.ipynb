{
 "cells": [
  {
   "cell_type": "code",
   "execution_count": 1,
   "id": "922ac3e7",
   "metadata": {},
   "outputs": [
    {
     "name": "stdout",
     "output_type": "stream",
     "text": [
      "Circle area: 78.53981633974483\n",
      "Rectangle area: 24\n",
      "Triangle area: 10.5\n"
     ]
    }
   ],
   "source": [
    "#fa24-bbd-105\n",
    "#question 1\n",
    "import math\n",
    "\n",
    "class Shape:\n",
    "    def calculate_area(self):\n",
    "        pass\n",
    "\n",
    "class Circle(Shape):\n",
    "    def __init__(self, radius):\n",
    "        self.radius = radius\n",
    "\n",
    "    def calculate_area(self):\n",
    "        return math.pi * (self.radius ** 2)\n",
    "\n",
    "class Rectangle(Shape):\n",
    "    def __init__(self, length, width):\n",
    "        self.length = length\n",
    "        self.width = width\n",
    "\n",
    "    def calculate_area(self):\n",
    "        return self.length * self.width\n",
    "\n",
    "\n",
    "class Triangle(Shape):\n",
    "    def __init__(self, base, height):\n",
    "        self.base = base\n",
    "        self.height = height\n",
    "\n",
    "    def calculate_area(self):\n",
    "        return 0.5 * self.base * self.height\n",
    "\n",
    "# Example usage:\n",
    "circle = Circle(5)\n",
    "print(\"Circle area:\", circle.calculate_area())\n",
    "\n",
    "rectangle = Rectangle(4, 6)\n",
    "print(\"Rectangle area:\", rectangle.calculate_area())\n",
    "\n",
    "triangle = Triangle(3, 7)\n",
    "print(\"Triangle area:\", triangle.calculate_area())"
   ]
  },
  {
   "cell_type": "code",
   "execution_count": 3,
   "id": "f711ae93",
   "metadata": {},
   "outputs": [
    {
     "name": "stdout",
     "output_type": "stream",
     "text": [
      "Buddy says: Woof!\n",
      "Whiskers says: Meow!\n",
      "Bessie says: Moo!\n"
     ]
    }
   ],
   "source": [
    "# question no 2\n",
    "# Animal Class and Subclasses\n",
    "\n",
    "class Animal:\n",
    "    def __init__(self, name):\n",
    "        self.name = name\n",
    "\n",
    "    def make_sound(self):\n",
    "        pass\n",
    "\n",
    "class Dog(Animal):\n",
    "    def make_sound(self):\n",
    "        return \"Woof!\"\n",
    "\n",
    "class Cat(Animal):\n",
    "    def make_sound(self):\n",
    "        return \"Meow!\"\n",
    "\n",
    "class Cow(Animal):\n",
    "    def make_sound(self):\n",
    "        return \"Moo!\"\n",
    "\n",
    "# Example usage:\n",
    "dog = Dog(\"Buddy\")\n",
    "print(dog.name, \"says:\", dog.make_sound())\n",
    "\n",
    "cat = Cat(\"Whiskers\")\n",
    "print(cat.name, \"says:\", cat.make_sound())\n",
    "\n",
    "cow = Cow(\"Bessie\")\n",
    "print(cow.name, \"says:\", cow.make_sound())\n"
   ]
  },
  {
   "cell_type": "code",
   "execution_count": null,
   "id": "0b3c9d58",
   "metadata": {},
   "outputs": [],
   "source": []
  }
 ],
 "metadata": {
  "kernelspec": {
   "display_name": "Python 3 (ipykernel)",
   "language": "python",
   "name": "python3"
  },
  "language_info": {
   "codemirror_mode": {
    "name": "ipython",
    "version": 3
   },
   "file_extension": ".py",
   "mimetype": "text/x-python",
   "name": "python",
   "nbconvert_exporter": "python",
   "pygments_lexer": "ipython3",
   "version": "3.11.5"
  }
 },
 "nbformat": 4,
 "nbformat_minor": 5
}
